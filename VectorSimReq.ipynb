{
 "cells": [
  {
   "cell_type": "code",
   "execution_count": 1,
   "id": "809e0a6e-3a7d-43cd-9632-16de2b6b1abc",
   "metadata": {},
   "outputs": [
    {
     "name": "stdout",
     "output_type": "stream",
     "text": [
      "Note: you may need to restart the kernel to use updated packages.\n"
     ]
    }
   ],
   "source": [
    "%pip install --quiet --upgrade langchain langchain-community langchain-chroma\n"
   ]
  },
  {
   "cell_type": "code",
   "execution_count": 9,
   "id": "46c64331-6fe0-4261-b704-715367b1c415",
   "metadata": {},
   "outputs": [],
   "source": [
    "from typing import Iterator\n",
    "\n",
    "from langchain_core.document_loaders import BaseLoader\n",
    "from langchain_core.documents import Document\n",
    "\n",
    "class CustomDocumentLoader(BaseLoader):\n",
    "    \"\"\"An example document loader that reads a file line by line.\"\"\"\n",
    "\n",
    "    def __init__(self, file_path: str) -> None:\n",
    "        \"\"\"Initialize the loader with a file path.\n",
    "\n",
    "        Args:\n",
    "            file_path: The path to the file to load.\n",
    "        \"\"\"\n",
    "        self.file_path = file_path\n",
    "\n",
    "    def lazy_load(self) -> Iterator[Document]:  # <-- Does not take any arguments\n",
    "        \"\"\"A lazy loader that reads a file line by line.\n",
    "\n",
    "        When you're implementing lazy load methods, you should use a generator\n",
    "        to yield documents one by one.\n",
    "        \"\"\"\n",
    "        with open(self.file_path, encoding=\"utf-8\") as f:\n",
    "            line_number = 0\n",
    "            for line in f:\n",
    "                yield Document(\n",
    "                    page_content=line,\n",
    "                    metadata={\"line_number\": line_number, \"source\": self.file_path},\n",
    "                )\n",
    "                line_number += 1\n"
   ]
  },
  {
   "cell_type": "code",
   "execution_count": 12,
   "id": "7485995c-be6f-4e00-8fde-9ddf76d1ce00",
   "metadata": {},
   "outputs": [],
   "source": [
    "loader = CustomDocumentLoader('src/chunk/sentences_1726807436568.txt')\n",
    "requirements = loader.load()"
   ]
  },
  {
   "cell_type": "code",
   "execution_count": 13,
   "id": "00657fc2-e60f-4f05-b3d3-32a6f09898ce",
   "metadata": {},
   "outputs": [
    {
     "name": "stdout",
     "output_type": "stream",
     "text": [
      "Note: you may need to restart the kernel to use updated packages.\n"
     ]
    }
   ],
   "source": [
    "%pip install -qU langchain-huggingface\n",
    "\n",
    "from langchain_chroma import Chroma\n",
    "from langchain_huggingface import HuggingFaceEmbeddings"
   ]
  },
  {
   "cell_type": "code",
   "execution_count": 14,
   "id": "7d1ef3d9-14fa-4e45-9a16-4dc1fbe567a6",
   "metadata": {},
   "outputs": [
    {
     "name": "stderr",
     "output_type": "stream",
     "text": [
      "/home/ethan/Documents/code/icl-rag/venv/lib/python3.12/site-packages/sentence_transformers/cross_encoder/CrossEncoder.py:13: TqdmExperimentalWarning: Using `tqdm.autonotebook.tqdm` in notebook mode. Use `tqdm.tqdm` instead to force console mode (e.g. in jupyter console)\n",
      "  from tqdm.autonotebook import tqdm, trange\n",
      "/home/ethan/Documents/code/icl-rag/venv/lib/python3.12/site-packages/transformers/tokenization_utils_base.py:1601: FutureWarning: `clean_up_tokenization_spaces` was not set. It will be set to `True` by default. This behavior will be depracted in transformers v4.45, and will be then set to `False` by default. For more details check this issue: https://github.com/huggingface/transformers/issues/31884\n",
      "  warnings.warn(\n"
     ]
    }
   ],
   "source": [
    "embeddings_model = HuggingFaceEmbeddings(model_name=\"sentence-transformers/all-MiniLM-L6-v2\")\n",
    "vectorstore = Chroma.from_documents(documents=requirements, embedding=embeddings_model)"
   ]
  },
  {
   "cell_type": "markdown",
   "id": "456600a3-5d34-4a4b-a4ff-1a4a3eec97eb",
   "metadata": {},
   "source": [
    "What's the vector store actually giving me for a Requirements request?"
   ]
  },
  {
   "cell_type": "code",
   "execution_count": 17,
   "id": "7a077d9f-05b5-4094-b7db-f82718663f24",
   "metadata": {},
   "outputs": [
    {
     "name": "stdout",
     "output_type": "stream",
     "text": [
      "[Document(metadata={'line_number': 525, 'source': 'src/chunk/sentences_1726807436568.txt'}, page_content='The Gateway shall provide a minimum of 24kW for system use when SEP is active.\\n'), Document(metadata={'line_number': 494, 'source': 'src/chunk/sentences_1726807436568.txt'}, page_content='The Gateway shall provide a minimum of 32kW for Gateway use when SEP is inactive.\\n'), Document(metadata={'line_number': 531, 'source': 'src/chunk/sentences_1726807436568.txt'}, page_content='The Gateway shall reserve a minimum of 4kW power for utilization use.\\n'), Document(metadata={'line_number': 520, 'source': 'src/chunk/sentences_1726807436568.txt'}, page_content='The Gateway shall provide energy storage capacity capable of supplying a minimum of 32kW during non-insolation periods of at least 1.5 hrs.\\n'), Document(metadata={'line_number': 527, 'source': 'src/chunk/sentences_1726807436568.txt'}, page_content='The 24kW electrical power value represents the minimum required continuous transfer power that is transferred to all Gateway electrical loads other than to the PPE housekeeping when the SEP is active and consuming up to 26.6kW.\\n')]\n"
     ]
    }
   ],
   "source": [
    "request = \"The Gateway shall provide a minimum of 24kW for system use when SEP is active.\"\n",
    "sim = vectorstore.similarity_search(request, k=)\n",
    "print(sim)"
   ]
  },
  {
   "cell_type": "code",
   "execution_count": null,
   "id": "937849ff-8700-4ab7-9722-0564530aec0e",
   "metadata": {},
   "outputs": [],
   "source": []
  }
 ],
 "metadata": {
  "kernelspec": {
   "display_name": "Python 3 (ipykernel)",
   "language": "python",
   "name": "python3"
  },
  "language_info": {
   "codemirror_mode": {
    "name": "ipython",
    "version": 3
   },
   "file_extension": ".py",
   "mimetype": "text/x-python",
   "name": "python",
   "nbconvert_exporter": "python",
   "pygments_lexer": "ipython3",
   "version": "3.12.3"
  }
 },
 "nbformat": 4,
 "nbformat_minor": 5
}
